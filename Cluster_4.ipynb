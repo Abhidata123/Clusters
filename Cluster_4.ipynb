{
 "cells": [
  {
   "cell_type": "markdown",
   "id": "6e058f73-1b27-4a60-8308-2f062a1e06b9",
   "metadata": {},
   "source": [
    "## Q1. Explain the concept of homogeneity and completeness in clustering evaluation. How are they calculated?"
   ]
  },
  {
   "attachments": {
    "8f9c3e56-e8c2-473c-a839-84df8f181ba7.PNG": {
     "image/png": "[encoded data removed]"
    }
   },
   "cell_type": "markdown",
   "id": "ccfb5c45-1cb7-4572-99da-cbc3b5168a69",
   "metadata": {},
   "source": [
    "Homogeneity and completeness are two measures used to evaluate the quality of clustering algorithms. They are used to assess how well the clusters produced by an algorithm match the true classes or categories of the data.\n",
    "\n",
    "Homogeneity measures the extent to which all the members of a given class or category are assigned to the same cluster. In other words, it measures the purity of the clusters with respect to the true classes. A cluster is considered to be highly homogeneous if all its members belong to the same class. Homogeneity is calculated as follows:\n",
    "    \n",
    "\n",
    "![Capture.PNG](attachment:8f9c3e56-e8c2-473c-a839-84df8f181ba7.PNG)   \n",
    "## H(K) -Entropy of clusters\n",
    "## H(K/C) - Conditional entropy of the clusters\n",
    "\n",
    "where \n",
    " represents the true classes or categories of the data, \n",
    " represents the clusters produced by the algorithm, \n",
    " is the entropy of the true classes, and \n",
    " is the conditional entropy of the true classes given the clusters. The closer the value of \n",
    " is to 1, the more homogeneous the clustering is.\n",
    "\n",
    "Completeness, on the other hand, measures the extent to which all the members of a given cluster belong to the same class or category. In other words, it measures the completeness of the clusters with respect to the true classes. A cluster is considered to be highly complete if all its members belong to the same class. Completeness is calculated as follows:\n",
    "\n",
    " \n",
    "where \n",
    " represents the true classes or categories of the data, \n",
    " represents the clusters produced by the algorithm, \n",
    " is the entropy of the clusters, and \n",
    " is the conditional entropy of the clusters given the true classes. The closer the value of \n",
    " is to 1, the more complete the clustering is.\n",
    "\n",
    "In general, a good clustering algorithm should produce clusters that are both highly homogeneous and highly complete, with values of \n",
    " and \n",
    " close to 1. However, in some cases, it may be difficult to achieve both high homogeneity and high completeness simultaneously, and trade-offs may need to be made depending on the specific requirements of the task at hand."
   ]
  },
  {
   "cell_type": "markdown",
   "id": "5447c7c3-3d1b-4c62-8c94-9e7acc288de6",
   "metadata": {},
   "source": [
    "## Q2. What is the V-measure in clustering evaluation? How is it related to homogeneity and completeness?"
   ]
  },
  {
   "attachments": {
    "de964168-352b-4f6a-b0c2-68e6f1eb06e5.PNG": {
     "image/png": "[encoded data removed]"
    }
   },
   "cell_type": "markdown",
   "id": "bad02adf-d39a-4382-8818-d1b5c77c6b11",
   "metadata": {},
   "source": [
    "The V-measure is a metric used to evaluate the quality of clustering algorithms, which takes into account both homogeneity and completeness. It is a harmonic mean of these two measures, with weights that are determined by the size of the clusters and the true classes.\n",
    "\n",
    "The V-measure is defined as follows:\n",
    "\n",
    "\n",
    "![2.PNG](attachment:de964168-352b-4f6a-b0c2-68e6f1eb06e5.PNG)\n",
    "\n",
    "where \n",
    " is the homogeneity of the clustering, \n",
    " is the completeness of the clustering, and \n",
    " is the V-measure.\n",
    "\n",
    "The V-measure ranges from 0 to 1, where 1 indicates perfect agreement between the clustering and the true classes. The V-measure is a good metric for evaluating clustering algorithms when the ground truth (i.e., the true classes or categories) is known, as it takes into account both homogeneity and completeness, which are important aspects of clustering quality.\n",
    "\n",
    "The V-measure is related to homogeneity and completeness because it uses both measures to calculate the harmonic mean. The harmonic mean gives more weight to smaller values, which means that the V-measure is more sensitive to cases where either homogeneity or completeness is low. In other words, if either homogeneity or completeness is low, the V-measure will be lower than if both measures are high.\n",
    "\n",
    "In general, the V-measure is a useful metric for evaluating clustering algorithms, as it provides a single score that takes into account both homogeneity and completeness. However, it is important to keep in mind that the V-measure should be used in conjunction with other metrics and domain knowledge to fully evaluate the quality of a clustering algorithm."
   ]
  },
  {
   "cell_type": "markdown",
   "id": "51d2b104-3b78-4619-8732-e3e27e162477",
   "metadata": {},
   "source": [
    "## Q3. How is the Silhouette Coefficient used to evaluate the quality of a clustering result? What is the range of its values?"
   ]
  },
  {
   "attachments": {
    "880d442b-8cec-4fd6-b7bf-9f49ba3b84cb.PNG": {
     "image/png": "[encoded data removed]"
    }
   },
   "cell_type": "markdown",
   "id": "5dce15ff-dc1d-489c-971e-2bfbee02ba1e",
   "metadata": {},
   "source": [
    "The Silhouette Coefficient is a metric used to evaluate the quality of a clustering result by measuring the similarity of data points within clusters and the dissimilarity between clusters. It provides a measure of how well each data point is assigned to its cluster, with values ranging from -1 to 1.\n",
    "\n",
    "The Silhouette Coefficient for a data point \n",
    " is calculated as follows:\n",
    " \n",
    " \n",
    " ![3.PNG](attachment:880d442b-8cec-4fd6-b7bf-9f49ba3b84cb.PNG)\n",
    "\n",
    " \n",
    "where \n",
    " is the average distance between \n",
    " and all other data points in its own cluster, and \n",
    " is the average distance between \n",
    " and all data points in the nearest neighboring cluster (i.e., the cluster with the smallest average distance to \n",
    ").\n",
    "\n",
    "The Silhouette Coefficient for the entire clustering result is the average of the Silhouette Coefficients for all data points. A Silhouette Coefficient close to 1 indicates that the data points are well-clustered, with high similarity within clusters and low similarity between clusters. A Silhouette Coefficient close to 0 indicates that the clustering result is ambiguous, with data points on the boundaries between clusters. A Silhouette Coefficient close to -1 indicates that the data points may have been assigned to the wrong cluster, with high similarity between clusters and low similarity within clusters.\n",
    "\n",
    "The range of Silhouette Coefficient values is between -1 and 1. A value of -1 means that the data point is assigned to the wrong cluster, while a value of 1 means that the data point is assigned to the correct cluster and is far away from the neighboring clusters. A value of 0 indicates that the data point is on the boundary between two clusters and could potentially belong to either cluster.\n",
    "\n",
    "The Silhouette Coefficient is a widely used metric for evaluating the quality of clustering results, as it is intuitive, easy to interpret, and applicable to a wide range of clustering algorithms. However, it is important to note that the Silhouette Coefficient should not be used in isolation and should be considered alongside other metrics and domain knowledge to fully evaluate the quality of a clustering algorithm."
   ]
  },
  {
   "cell_type": "markdown",
   "id": "56dc8588-8f0c-4b6f-b126-668fd57c4292",
   "metadata": {},
   "source": [
    "## Q4. How is the Davies-Bouldin Index used to evaluate the quality of a clustering result? What is the range of its values?"
   ]
  },
  {
   "attachments": {
    "77528b67-23a0-4a97-a30d-10c9a207ad99.PNG": {
     "image/png": "[encoded data removed]"
    }
   },
   "cell_type": "markdown",
   "id": "25931b16-4a49-4694-8d0b-5460140b74f2",
   "metadata": {},
   "source": [
    "The Davies-Bouldin Index (DBI) is a metric used to evaluate the quality of a clustering result by measuring the similarity within clusters and the dissimilarity between clusters. It provides a measure of how well the clusters are separated from each other, with lower values indicating better clustering quality.\n",
    "\n",
    "The DBI for a clustering result is calculated as follows:\n",
    "\n",
    " ![4.PNG](attachment:77528b67-23a0-4a97-a30d-10c9a207ad99.PNG)\n",
    " \n",
    " \n",
    " \n",
    "where \n",
    " is the number of clusters, \n",
    " is the centroid of cluster \n",
    ", \n",
    " is the average distance between each data point in cluster \n",
    " and the centroid \n",
    ", \n",
    " is the distance between the centroids of clusters \n",
    " and \n",
    ", and the maximum is taken over all pairs of clusters.\n",
    "\n",
    "The DBI compares the average distance between data points in a cluster with the distance between the centroids of two clusters. A lower DBI value indicates better clustering quality, with tighter clusters and greater separation between clusters. A higher DBI value indicates poorer clustering quality, with more dispersed clusters and less separation between clusters.\n",
    "\n",
    "The range of DBI values is between 0 and infinity, with lower values indicating better clustering quality. The optimal number of clusters is the one that minimizes the DBI value.\n",
    "\n",
    "The DBI is a widely used metric for evaluating the quality of clustering results, as it is intuitive, easy to interpret, and applicable to a wide range of clustering algorithms. However, it is important to note that the DBI should not be used in isolation and should be considered alongside other metrics and domain knowledge to fully evaluate the quality of a clustering algorithm."
   ]
  },
  {
   "cell_type": "markdown",
   "id": "08e9ac8e-bff3-4c1c-8992-ca01b30a16c7",
   "metadata": {},
   "source": [
    "## Q5. Can a clustering result have a high homogeneity but low completeness? Explain with an example."
   ]
  },
  {
   "cell_type": "markdown",
   "id": "9c2677ed-6e02-4298-88dd-87b36302b53d",
   "metadata": {},
   "source": [
    "Yes, A clustering result can have a high homogeneity, but low completeness.\n",
    "\n",
    "Homogeneity measures how pure the clusters are, meaning that all the data points within a cluster belong to the same class or category. On the other hand, completeness measures how well all the data points from a particular class or category are assigned to the same cluster.\n",
    "\n",
    "For example, consider a clustering result that is designed to group animals into categories based on their habitats, where the categories are 'forest', 'water', and 'desert'. Suppose there are 100 animals in the dataset, 50 of which live in the forest, 30 of which live in the water, and 20 of which live in the desert.\n",
    "\n",
    "Suppose that the clustering algorithm produces two clusters:\n",
    "\n",
    "Cluster 1 contains 60 animals, all of which live in the forest.\n",
    "Cluster 2 contains 40 animals, where 30 live in the water and 10 live in the desert.\n",
    "In this case, the homogeneity is high because all the data points within each cluster belong to the same category. However, the completeness is low, because not all the animals from the same category are assigned to the same cluster. Specifically, 20 animals from the water category are assigned to Cluster 2, and 10 animals from the desert category are assigned to Cluster 2. Therefore, the completeness is low because not all the data points from the same category are assigned to the same cluster. Therefore, in this example, the clustering result has high homogeneity but low completeness."
   ]
  },
  {
   "cell_type": "markdown",
   "id": "81944e16-68ec-465d-bab8-323606bf6d34",
   "metadata": {},
   "source": [
    "## Q6. How can the V-measure be used to determine the optimal number of clusters in a clustering algorithm?"
   ]
  },
  {
   "cell_type": "markdown",
   "id": "68b10fd8-dc0a-4d84-8793-834c7c0d49c4",
   "metadata": {},
   "source": [
    "The V-measure is a clustering evaluation metric that combines homogeneity and completeness to provide an overall measure of clustering quality. It can be used to determine the optimal number of clusters in a clustering algorithm by comparing the V-measure values for different numbers of clusters.\n",
    "\n",
    "To determine the optimal number of clusters using the V-measure, you can perform the following steps:\n",
    "\n",
    "1. Compute the V-measure for the clustering result using different numbers of clusters. Start with a small number of clusters and gradually increase the number of clusters until the V-measure values start to plateau or decrease.\n",
    "2. Plot the V-measure values against the number of clusters. This will help you visualize the relationship between the number of clusters and the clustering quality.\n",
    "3. Identify the elbow point in the plot, which corresponds to the number of clusters that provides the highest V-measure value. The elbow point is the point in the plot where the V-measure values start to plateau or decrease.\n",
    "4. Choose the number of clusters corresponding to the elbow point as the optimal number of clusters for your clustering algorithm.\n",
    "By using the V-measure to determine the optimal number of clusters, you can ensure that your clustering algorithm produces clusters that are both homogenous and complete, and that provide an overall measure of clustering quality that is appropriate for your particular dataset and application."
   ]
  },
  {
   "cell_type": "markdown",
   "id": "b28fb0fe-cad1-4c82-a213-91a113c486c5",
   "metadata": {},
   "source": [
    "## Q7. What are some advantages and disadvantages of using the Silhouette Coefficient to evaluate a clustering result?"
   ]
  },
  {
   "cell_type": "markdown",
   "id": "4415f7b6-cde6-4db4-a882-18205085369f",
   "metadata": {},
   "source": [
    "The Silhouette Coefficient is a commonly used metric to evaluate the quality of a clustering result. Here are some advantages and disadvantages of using the Silhouette Coefficient:\n",
    "\n",
    "**Advantages:**\n",
    "\n",
    "**Easy to understand and interpret:** The Silhouette Coefficient is a simple metric that provides a measure of how well-separated the clusters are.\n",
    "\n",
    "**Can be used with any clustering algorithm:** The Silhouette Coefficient can be used with any clustering algorithm that produces a partition of the data into clusters.\n",
    "\n",
    "**Provides a global measure of clustering quality:** The Silhouette Coefficient provides a single score that summarizes the overall quality of the clustering result, which can be useful for comparing different clustering algorithms or tuning the parameters of a particular clustering algorithm.\n",
    "\n",
    "**Disadvantages:**\n",
    "\n",
    "**Sensitive to the shape of the clusters:** The Silhouette Coefficient is sensitive to the shape of the clusters, and may not perform well when the clusters have complex shapes or different densities.\n",
    "\n",
    "**Assumes that clusters are convex:** The Silhouette Coefficient assumes that the clusters are convex, which may not always be the case in practice.\n",
    "\n",
    "**Does not take into account the density of the clusters:** The Silhouette Coefficient does not take into account the density of the clusters, which may be an important factor in some applications.\n",
    "\n",
    "**May not be suitable for high-dimensional data:** \n",
    "The Silhouette Coefficient may not be suitable for high-dimensional data, as it becomes difficult to define a meaningful distance metric in high-dimensional spaces.\n",
    "Overall, the Silhouette Coefficient is a useful metric for evaluating the quality of a clustering result, but it should be used in conjunction with other metrics and domain knowledge to fully evaluate the quality of a clustering algorithm."
   ]
  },
  {
   "cell_type": "markdown",
   "id": "fea52e4f-5a15-4335-96df-dc150df425ac",
   "metadata": {},
   "source": [
    "## Q8. What are some limitations of the Davies-Bouldin Index as a clustering evaluation metric? How can they be overcome?"
   ]
  },
  {
   "cell_type": "markdown",
   "id": "fe31c198-2d31-496d-9ffa-4a32cd34e8e0",
   "metadata": {},
   "source": [
    "The Davies-Bouldin Index (DBI) is a commonly used metric for evaluating the quality of a clustering result. However, like any other clustering evaluation metric, it has some limitations. Here are some limitations of the DBI and how they can be overcome:\n",
    "\n",
    "**Assumes clusters are spherical and equally sized:** The DBI assumes that the clusters are spherical and equally sized, which may not always be the case in practice. This can lead to inaccurate results, especially for datasets with complex cluster shapes.\n",
    "\n",
    "**Solution:** One way to overcome this limitation is to use other clustering evaluation metrics in addition to the Davies-Bouldin Index (DBI). For example, the Silhouette Coefficient can be used to evaluate the cluster shape and density, while the Calinski-Harabasz Index can be used to evaluate the compactness of the clusters.\n",
    "\n",
    "**Sensitive to the number of clusters:** The Davies-Bouldin Index (DBI) is sensitive to the number of clusters and may not be able to identify the optimal number of clusters in the dataset.\n",
    "\n",
    "**Solution:** One way to overcome this limitation is to use other methods for selecting the optimal number of clusters, such as the elbow method or silhouette analysis, in addition to the Davies-Bouldin Index (DBI).\n",
    "\n",
    "**Requires pairwise distance calculations:** The DBI requires calculating the pairwise distances between all data points, which can be computationally expensive for large datasets.\n",
    "\n",
    "**Solution:** One way to overcome this limitation is to use an approximation algorithm that can estimate the DBI without computing all pairwise distances. For example, the K-tree algorithm can be used to estimate the Davies-Bouldin Index (DBI) for large datasets.\n",
    "\n",
    "**Not suitable for non-numeric data:** The DBI is designed for numeric data and may not be suitable for non-numeric data.\n",
    "\n",
    "**Solution:** One way to overcome this limitation is to use other clustering evaluation metrics that are designed for non-numeric data, such as the Adjusted Random Index for evaluating the agreement between the true and predicted cluster assignments for the Davies-Bouldin Index (DBI).\n",
    "\n",
    "Overall, the DBI is a useful metric for evaluating the quality of a clustering result, but it should be used in conjunction with other metrics and domain knowledge to fully evaluate the quality of a clustering algorithm."
   ]
  },
  {
   "cell_type": "markdown",
   "id": "d578dd01-522a-4452-8523-5e9cf455f113",
   "metadata": {},
   "source": [
    "## Q9. What is the relationship between homogeneity, completeness, and the V-measure? Can they have different values for the same clustering result?"
   ]
  },
  {
   "cell_type": "markdown",
   "id": "301616ed-2891-4b61-bbba-aaaf0dd7e767",
   "metadata": {},
   "source": [
    "Homogeneity, completeness, and the V-measure are all metrics used to evaluate the quality of a clustering result. The V-measure is a harmonic mean of homogeneity and completeness, and it can be used to provide a single score that summarizes the overall quality of the clustering result.\n",
    "\n",
    "Homogeneity measures how pure the clusters are, meaning that all the data points in a cluster belong to the same true class. Completeness measures how well all the data points of a true class are assigned to the same cluster. The V-measure balances these two metrics, and it can be expressed as follows:\n",
    "\n",
    "V-measure = 2 * (homogeneity * completeness) / (homogeneity + completeness)\n",
    "\n",
    "Homogeneity, completeness, and the V-measure can have different values for the same clustering result. This can occur when the clustering algorithm produces clusters that are highly pure (i.e., have high homogeneity) but do not capture all the data points of a true class (i.e., have low completeness). In this case, the homogeneity score would be high, but the completeness score would be low, leading to a lower V-measure.\n",
    "\n",
    "Conversely, it is also possible for the clustering algorithm to produce clusters that are not very pure (i.e., have low homogeneity) but capture all the data points of a true class (i.e., have high completeness). In this case, the homogeneity score would be low, but the completeness score would be high, leading to a lower V-measure.\n",
    "\n",
    "Therefore, the V-measure provides a more comprehensive evaluation of the clustering result, taking into account both homogeneity and completeness, and can be used to compare different clustering algorithms or different parameter settings of the same algorithm."
   ]
  },
  {
   "cell_type": "markdown",
   "id": "540cafec-cdd9-4131-888e-d4eff0c57cdf",
   "metadata": {},
   "source": [
    "## Q10. How can the Silhouette Coefficient be used to compare the quality of different clustering algorithms on the same dataset? What are some potential issues to watch out for?"
   ]
  },
  {
   "cell_type": "markdown",
   "id": "cb6a1bf9-160b-4563-8501-21e0deba9674",
   "metadata": {},
   "source": [
    "The Silhouette Coefficient is a metric that can be used to evaluate the quality of a clustering result. It can also be used to compare the quality of different clustering algorithms on the same dataset. Here are some steps to follow when using the Silhouette Coefficient to compare different clustering algorithms:\n",
    "\n",
    "**Choose the clustering algorithms to compare:** Select the clustering algorithms to compare based on their suitability for the data and the problem at hand.\n",
    "\n",
    "**Set the parameters for each algorithm:** For each algorithm, set the parameters that affect the clustering result, such as the number of clusters or the distance metric.\n",
    "\n",
    "**Apply each algorithm to the dataset:** Apply each algorithm to the dataset and obtain the clustering result.\n",
    "\n",
    "**Calculate the Silhouette Coefficient for each clustering result:** For each clustering result, calculate the Silhouette Coefficient for each data point and take the average.\n",
    "\n",
    "**Compare the Silhouette Coefficient values:** Compare the Silhouette Coefficient values for each clustering result. A higher Silhouette Coefficient indicates a better clustering result.\n",
    "\n",
    "When comparing different clustering algorithms using the Silhouette Coefficient, there are some potential issues to watch out for. One issue is that the Silhouette Coefficient may not always be a reliable metric, especially for datasets with complex cluster shapes or noisy data. Another issue is that the Silhouette Coefficient does not take into account the interpretability or practical usefulness of the clustering result.\n",
    "\n",
    "To mitigate these issues, it is important to also consider other metrics and domain knowledge when comparing clustering algorithms. It is also important to consider the interpretability and practical usefulness of the clustering result for the specific problem at hand."
   ]
  },
  {
   "cell_type": "markdown",
   "id": "3a8a8b72-2745-4793-adb9-6cadb5075db4",
   "metadata": {},
   "source": [
    "## Q11. How does the Davies-Bouldin Index measure the separation and compactness of clusters? What are some assumptions it makes about the data and the clusters?"
   ]
  },
  {
   "cell_type": "markdown",
   "id": "81335793-28fc-4596-8f15-3bb630a511ce",
   "metadata": {},
   "source": [
    "The Davies-Bouldin Index (DBI) is a clustering evaluation metric that measures the quality of a clustering result based on the separation and compactness of the clusters. The index is calculated as the average similarity between each cluster and its most similar cluster, where similarity is measured in terms of the distance between the centroids of the clusters.\n",
    "\n",
    "To measure the separation of the clusters, the DBI calculates the average distance between each cluster centroid and the centroid of every other cluster. The larger this distance, the better separated the clusters are.\n",
    "\n",
    "To measure the compactness of the clusters, the DBI calculates the average intra-cluster distance, which is the average distance between each point in a cluster and the centroid of the same cluster. The smaller this distance, the more compact the clusters are.\n",
    "\n",
    "The DBI assumes that the clusters are roughly spherical and equally sized, and that the distance metric used to calculate similarity is a Euclidean distance. It also assumes that the clustering algorithm used partitions the data into non-overlapping clusters, and that each data point belongs to exactly one cluster.\n",
    "\n",
    "These assumptions may not hold in all cases, especially for datasets with complex cluster shapes or varying cluster sizes. In such cases, the DBI may not be an appropriate metric for evaluating the clustering result. It is important to choose a clustering evaluation metric that is appropriate for the specific problem at hand and the characteristics of the data."
   ]
  },
  {
   "cell_type": "markdown",
   "id": "5e055f5f-cf0f-4f76-998b-398546189840",
   "metadata": {},
   "source": [
    "## Q12. Can the Silhouette Coefficient be used to evaluate hierarchical clustering algorithms? If so, how?"
   ]
  },
  {
   "cell_type": "markdown",
   "id": "fa0d00df-6bfe-4f5c-9753-23c87ac39a85",
   "metadata": {},
   "source": [
    "Yes, the Silhouette Coefficient can be used to evaluate hierarchical clustering algorithms. Here's how it can be done:\n",
    "\n",
    "**Apply the hierarchical clustering algorithm:** Apply the hierarchical clustering algorithm to the dataset and obtain the resulting dendrogram.\n",
    "\n",
    "**Choose the number of clusters:** Decide on the number of clusters to use by cutting the dendrogram at a particular level.\n",
    "\n",
    "**Assign data points to clusters:** Assign each data point to its corresponding cluster based on the dendrogram.\n",
    "Calculate the Silhouette Coefficient: For each data point, calculate its Silhouette Coefficient based on its distance to other data points in the same cluster and to data points in other clusters.\n",
    "\n",
    "**Average the Silhouette Coefficients:** Take the average Silhouette Coefficient across all data points to obtain the Silhouette Coefficient for the clustering result.\n",
    "\n",
    "It is important to note that the choice of the number of clusters in hierarchical clustering can affect the resulting Silhouette Coefficient. One approach is to try different numbers of clusters and choose the one with the highest Silhouette Coefficient. Another approach is to use a hierarchical clustering algorithm that automatically determines the optimal number of clusters based on some criterion, such as the dendrogram cut height or the silhouette width.\n",
    "\n",
    "Overall, the Silhouette Coefficient can be a useful metric for evaluating the quality of hierarchical clustering algorithms, but it should be used with other metrics and domain knowledge to fully assess the clustering result."
   ]
  },
  {
   "cell_type": "code",
   "execution_count": null,
   "id": "58bcf574-c886-407b-9608-a2313f93ad07",
   "metadata": {},
   "outputs": [],
   "source": []
  }
 ],
 "metadata": {
  "kernelspec": {
   "display_name": "Python 3 (ipykernel)",
   "language": "python",
   "name": "python3"
  },
  "language_info": {
   "codemirror_mode": {
    "name": "ipython",
    "version": 3
   },
   "file_extension": ".py",
   "mimetype": "text/x-python",
   "name": "python",
   "nbconvert_exporter": "python",
   "pygments_lexer": "ipython3",
   "version": "3.10.8"
  }
 },
 "nbformat": 4,
 "nbformat_minor": 5
}
